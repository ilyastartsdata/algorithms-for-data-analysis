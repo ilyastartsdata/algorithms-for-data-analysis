{
 "cells": [
  {
   "cell_type": "markdown",
   "metadata": {},
   "source": [
    "## Домашнее задание к уроку 5<a class='anchor' id='hw'>"
   ]
  },
  {
   "cell_type": "code",
   "execution_count": 14,
   "metadata": {},
   "outputs": [],
   "source": [
    "# Загрузка необходимых библиотек\n",
    "\n",
    "import numpy as np\n",
    "import random\n",
    "\n",
    "import matplotlib.pyplot as plt\n",
    "from matplotlib.colors import ListedColormap\n",
    "from sklearn.datasets import make_classification\n",
    "from sklearn.model_selection import train_test_split"
   ]
  },
  {
   "cell_type": "markdown",
   "metadata": {},
   "source": [
    "1. Сформировать с помощью sklearn.make_classification датасет из 100 объектов с двумя признаками, обучить случайный лес из 1, 3, 10 и 50 деревьев и визуализировать их разделяющие гиперплоскости на графиках (по подобию визуализации деревьев из предыдущего урока, необходимо только заменить вызов функции predict на tree_vote)."
   ]
  },
  {
   "cell_type": "code",
   "execution_count": 4,
   "metadata": {},
   "outputs": [],
   "source": [
    "# Определение data и labels для classification\n",
    "\n",
    "classification_data, classification_labels = make_classification(\n",
    "    n_samples = 100,\n",
    "    n_features = 2,\n",
    "    n_informative = 2,\n",
    "    n_classes = 2,\n",
    "    n_redundant = 0,\n",
    "    n_clusters_per_class = 1,\n",
    "    random_state = 23)"
   ]
  },
  {
   "cell_type": "code",
   "execution_count": 5,
   "metadata": {},
   "outputs": [
    {
     "data": {
      "image/png": "[encoded data removed]",
      "text/plain": [
       "<Figure size 576x576 with 1 Axes>"
      ]
     },
     "metadata": {
      "needs_background": "light"
     },
     "output_type": "display_data"
    }
   ],
   "source": [
    "# Визуализация данных\n",
    "\n",
    "colors = ListedColormap(['red', 'blue'])\n",
    "light_colors = ListedColormap(['lightcoral', 'lightblue'])\n",
    "\n",
    "plt.figure(figsize = (8,8))\n",
    "plt.scatter(\n",
    "    classification_data[:, 0], \n",
    "    classification_data[:, 1], \n",
    "    c = classification_labels, \n",
    "    cmap = colors);"
   ]
  },
  {
   "cell_type": "code",
   "execution_count": 6,
   "metadata": {},
   "outputs": [],
   "source": [
    "# Поиск разбиения в узле через генерацию bootstrap выборок и подмножества признаков\n",
    "\n",
    "seed = 42\n",
    "\n",
    "np.random.seed(seed)\n",
    "\n",
    "def get_bootstrap(data, labels, n):\n",
    "    \n",
    "    n_samples = data.shape[0]\n",
    "    bootstrap = []\n",
    "    \n",
    "    for i in range(n):\n",
    "        \n",
    "        sample_index = np.random.randint(0, n_samples, size = n_samples)\n",
    "        b_data = data[sample_index]\n",
    "        b_labels = labels[sample_index]\n",
    "        bootstrap.append((b_data, b_labels))\n",
    "        \n",
    "    return bootstrap"
   ]
  },
  {
   "cell_type": "code",
   "execution_count": 7,
   "metadata": {},
   "outputs": [
    {
     "data": {
      "text/plain": [
       "[(array([[-0.37124564, -1.67679697],\n",
       "         [-0.51278018, -0.98556015],\n",
       "         [-0.54813278, -0.39241207],\n",
       "         [-0.94885569, -1.24713565],\n",
       "         [ 0.1502772 ,  0.47273166],\n",
       "         [ 0.39895961, -1.67752215],\n",
       "         [ 2.07599128, -1.91770526],\n",
       "         [ 0.7432376 , -1.19378765],\n",
       "         [ 1.63478531,  0.33127428],\n",
       "         [ 1.63478531,  0.33127428],\n",
       "         [ 0.2357014 , -0.70960755],\n",
       "         [-1.50248523, -1.17842831],\n",
       "         [ 0.29776211, -0.65527205],\n",
       "         [ 0.23440873, -1.23792282],\n",
       "         [ 0.75356225, -1.93718584],\n",
       "         [ 1.5505173 , -1.28773359],\n",
       "         [ 0.75362536, -0.89523588],\n",
       "         [ 0.2357014 , -0.70960755],\n",
       "         [-0.42752956, -1.05442826],\n",
       "         [ 1.40819172, -0.95107001],\n",
       "         [ 0.75362536, -0.89523588],\n",
       "         [-1.57180854, -0.93984594],\n",
       "         [ 0.67432897,  0.01459861],\n",
       "         [ 0.39895961, -1.67752215],\n",
       "         [-0.363129  , -0.56729178],\n",
       "         [ 0.76616762, -0.85256618],\n",
       "         [ 1.19398453, -0.7826786 ],\n",
       "         [ 0.75356225, -1.93718584],\n",
       "         [-1.29522216, -0.93551741],\n",
       "         [-1.49126304, -0.74439295],\n",
       "         [-2.3404753 , -1.42946665],\n",
       "         [-0.35118015, -0.33169791],\n",
       "         [ 0.76702748, -3.59322681],\n",
       "         [-0.03768929, -0.56641441],\n",
       "         [ 0.67432897,  0.01459861],\n",
       "         [-1.13369344, -0.70018563],\n",
       "         [-0.54813278, -0.39241207],\n",
       "         [ 0.26719555, -1.39258319],\n",
       "         [ 0.26719555, -1.39258319],\n",
       "         [-0.20744578, -0.43485286],\n",
       "         [ 0.26719555, -1.39258319],\n",
       "         [ 1.42010067, -0.73130767],\n",
       "         [-1.65654444, -1.39697675],\n",
       "         [-1.57180854, -0.93984594],\n",
       "         [ 0.23440873, -1.23792282],\n",
       "         [ 1.42010067, -0.73130767],\n",
       "         [ 0.2983303 , -1.20310229],\n",
       "         [ 0.39895961, -1.67752215],\n",
       "         [-0.67041978, -0.3446216 ],\n",
       "         [-1.05692783, -1.10609382],\n",
       "         [-1.28117392, -1.45571598],\n",
       "         [ 0.95210618, -0.24334078],\n",
       "         [-1.29522216, -0.93551741],\n",
       "         [ 0.67432897,  0.01459861],\n",
       "         [-0.89801198, -0.76152096],\n",
       "         [ 1.30650827, -1.89704851],\n",
       "         [ 1.95593053, -1.71300943],\n",
       "         [ 1.5505173 , -1.28773359],\n",
       "         [ 0.75362536, -0.89523588],\n",
       "         [ 0.77719504, -0.89925724],\n",
       "         [-0.03768929, -0.56641441],\n",
       "         [ 0.67432897,  0.01459861],\n",
       "         [-1.3080473 , -1.14350806],\n",
       "         [-0.82743156, -1.05630101],\n",
       "         [ 0.30003015, -1.43463906],\n",
       "         [-0.20744578, -0.43485286],\n",
       "         [ 1.35614047,  1.5510826 ],\n",
       "         [-1.68766828, -1.18131305],\n",
       "         [ 0.08205456, -0.57684074],\n",
       "         [ 0.14552248, -0.5184148 ],\n",
       "         [ 0.29032534, -0.1935651 ],\n",
       "         [ 0.95210618, -0.24334078],\n",
       "         [ 0.75362536, -0.89523588],\n",
       "         [ 1.27392667, -0.87420414],\n",
       "         [-0.54229959, -0.95705042],\n",
       "         [ 0.95210618, -0.24334078],\n",
       "         [-0.54229959, -0.95705042],\n",
       "         [-0.51278018, -0.98556015],\n",
       "         [ 1.14152797,  0.16571559],\n",
       "         [-1.28117392, -1.45571598],\n",
       "         [ 1.95593053, -1.71300943],\n",
       "         [-0.82743156, -1.05630101],\n",
       "         [-1.18741188, -1.15918374],\n",
       "         [-1.04423735, -0.68772426],\n",
       "         [ 0.26719555, -1.39258319],\n",
       "         [-1.50248523, -1.17842831],\n",
       "         [-0.89801198, -0.76152096],\n",
       "         [-0.18932739, -0.79668574],\n",
       "         [ 1.41992702, -2.02770251],\n",
       "         [-0.54813278, -0.39241207],\n",
       "         [-0.94885569, -1.24713565],\n",
       "         [-1.68766828, -1.18131305],\n",
       "         [ 0.7432376 , -1.19378765],\n",
       "         [ 0.26719555, -1.39258319],\n",
       "         [ 0.9136297 , -1.57768323],\n",
       "         [-0.51937124, -0.56199368],\n",
       "         [-1.13369344, -0.70018563],\n",
       "         [ 0.94630443, -2.98772039],\n",
       "         [ 1.5505173 , -1.28773359],\n",
       "         [ 0.29776211, -0.65527205]]),\n",
       "  array([0, 1, 1, 1, 0, 0, 0, 0, 0, 0, 1, 1, 1, 0, 0, 0, 0, 1, 1, 0, 0, 1,\n",
       "         0, 0, 1, 0, 0, 0, 1, 1, 1, 1, 0, 1, 0, 1, 1, 0, 0, 0, 0, 0, 1, 1,\n",
       "         0, 0, 0, 0, 1, 1, 1, 0, 1, 0, 1, 0, 0, 0, 0, 0, 1, 0, 1, 1, 0, 0,\n",
       "         0, 1, 1, 0, 0, 0, 0, 0, 1, 0, 1, 1, 0, 1, 0, 1, 1, 1, 0, 1, 1, 1,\n",
       "         0, 1, 1, 1, 0, 0, 0, 1, 1, 0, 0, 1])),\n",
       " (array([[-0.75862888, -0.59623401],\n",
       "         [-1.29522216, -0.93551741],\n",
       "         [ 0.67432897,  0.01459861],\n",
       "         [ 0.90720936,  1.19836712],\n",
       "         [-1.02920749, -1.55929379],\n",
       "         [-0.54813278, -0.39241207],\n",
       "         [ 0.98590699, -3.57100887],\n",
       "         [-0.33976363, -0.43270334],\n",
       "         [-1.29522216, -0.93551741],\n",
       "         [-1.3080473 , -1.14350806],\n",
       "         [ 1.30650827, -1.89704851],\n",
       "         [ 0.2357014 , -0.70960755],\n",
       "         [-1.27616996, -1.15229747],\n",
       "         [ 0.30003015, -1.43463906],\n",
       "         [ 0.2357014 , -0.70960755],\n",
       "         [ 1.14152797,  0.16571559],\n",
       "         [ 1.32410713, -3.46357449],\n",
       "         [ 0.08205456, -0.57684074],\n",
       "         [ 0.30003015, -1.43463906],\n",
       "         [ 1.35614047,  1.5510826 ],\n",
       "         [ 1.35614047,  1.5510826 ],\n",
       "         [-0.363129  , -0.56729178],\n",
       "         [-1.82938967, -0.74000927],\n",
       "         [ 0.90720936,  1.19836712],\n",
       "         [-2.06341027, -1.919613  ],\n",
       "         [ 0.2983303 , -1.20310229],\n",
       "         [-0.67041978, -0.3446216 ],\n",
       "         [-0.94885569, -1.24713565],\n",
       "         [ 1.43387154,  0.31274475],\n",
       "         [-1.18741188, -1.15918374],\n",
       "         [-0.363129  , -0.56729178],\n",
       "         [ 1.41992702, -2.02770251],\n",
       "         [-1.44867457, -1.30836505],\n",
       "         [ 0.26719555, -1.39258319],\n",
       "         [ 0.2357014 , -0.70960755],\n",
       "         [-0.72886413, -0.81297025],\n",
       "         [-0.94569587, -1.2050318 ],\n",
       "         [-0.82743156, -1.05630101],\n",
       "         [-0.99646764, -0.80130526],\n",
       "         [-2.3404753 , -1.42946665],\n",
       "         [ 1.35614047,  1.5510826 ],\n",
       "         [-0.33976363, -0.43270334],\n",
       "         [-0.94569587, -1.2050318 ],\n",
       "         [-0.20744578, -0.43485286],\n",
       "         [-1.68766828, -1.18131305],\n",
       "         [ 0.23440873, -1.23792282],\n",
       "         [-1.27616996, -1.15229747],\n",
       "         [-1.82938967, -0.74000927],\n",
       "         [ 1.95593053, -1.71300943],\n",
       "         [-0.89801198, -0.76152096],\n",
       "         [-1.2551872 , -1.34785289],\n",
       "         [ 1.30650827, -1.89704851],\n",
       "         [ 1.04310545,  0.01898273],\n",
       "         [-0.54813278, -0.39241207],\n",
       "         [ 1.95593053, -1.71300943],\n",
       "         [ 0.76702748, -3.59322681],\n",
       "         [ 1.34476147, -0.65122459],\n",
       "         [ 1.42010067, -0.73130767],\n",
       "         [ 1.14152797,  0.16571559],\n",
       "         [-0.16203187, -0.45303092],\n",
       "         [-0.37124564, -1.67679697],\n",
       "         [-0.16203187, -0.45303092],\n",
       "         [ 0.95210618, -0.24334078],\n",
       "         [-1.87672194, -0.24121792],\n",
       "         [-1.44867457, -1.30836505],\n",
       "         [-0.54813278, -0.39241207],\n",
       "         [ 0.76594254, -1.2104025 ],\n",
       "         [-1.02920749, -1.55929379],\n",
       "         [ 0.14552248, -0.5184148 ],\n",
       "         [ 0.64539329, -1.03533933],\n",
       "         [-0.34937655, -0.88464489],\n",
       "         [-1.3080473 , -1.14350806],\n",
       "         [-0.35118015, -0.33169791],\n",
       "         [-0.99646764, -0.80130526],\n",
       "         [-2.06341027, -1.919613  ],\n",
       "         [-1.45234318, -1.15047427],\n",
       "         [ 0.76702748, -3.59322681],\n",
       "         [ 0.98590699, -3.57100887],\n",
       "         [ 0.26719555, -1.39258319],\n",
       "         [-0.77402719, -0.9475401 ],\n",
       "         [ 1.27392667, -0.87420414],\n",
       "         [-2.06341027, -1.919613  ],\n",
       "         [-2.06341027, -1.919613  ],\n",
       "         [-0.82743156, -1.05630101],\n",
       "         [ 0.77719504, -0.89925724],\n",
       "         [-0.42752956, -1.05442826],\n",
       "         [ 0.26719555, -1.39258319],\n",
       "         [ 1.63478531,  0.33127428],\n",
       "         [-0.03768929, -0.56641441],\n",
       "         [-1.29522216, -0.93551741],\n",
       "         [ 0.26719555, -1.39258319],\n",
       "         [ 1.22433928, -0.07600776],\n",
       "         [-1.27616996, -1.15229747],\n",
       "         [-1.2551872 , -1.34785289],\n",
       "         [ 0.26719555, -1.39258319],\n",
       "         [ 1.34476147, -0.65122459],\n",
       "         [ 0.23440873, -1.23792282],\n",
       "         [ 0.68775561,  0.49205266],\n",
       "         [-0.94885569, -1.24713565],\n",
       "         [-1.2551872 , -1.34785289]]),\n",
       "  array([1, 1, 0, 0, 1, 1, 0, 1, 1, 1, 0, 1, 1, 0, 1, 0, 0, 1, 0, 0, 0, 1,\n",
       "         1, 0, 1, 0, 1, 1, 0, 1, 1, 0, 1, 0, 1, 1, 1, 1, 1, 1, 0, 1, 1, 0,\n",
       "         1, 0, 1, 1, 0, 1, 1, 0, 0, 1, 0, 0, 0, 0, 0, 1, 0, 1, 0, 1, 1, 1,\n",
       "         1, 1, 0, 0, 1, 1, 1, 1, 1, 1, 0, 0, 0, 1, 0, 1, 1, 1, 0, 1, 0, 0,\n",
       "         1, 1, 0, 0, 1, 1, 0, 0, 0, 0, 1, 1]))]"
      ]
     },
     "execution_count": 7,
     "metadata": {},
     "output_type": "execute_result"
    }
   ],
   "source": [
    "# Проверка\n",
    "\n",
    "get_bootstrap(classification_data, classification_labels, 2)"
   ]
  },
  {
   "cell_type": "code",
   "execution_count": 8,
   "metadata": {},
   "outputs": [],
   "source": [
    "# Функция для sub sample с целью сохранять индексы от признаков\n",
    "\n",
    "def get_subsample(len_sample):\n",
    "\n",
    "    sample_indexes = list(range(len_sample))\n",
    "    len_subsample = int(np.sqrt(len_sample))\n",
    "    subsample = np.random.choice(sample_indexes, size = len_subsample, replace = False)\n",
    "\n",
    "    return subsample"
   ]
  },
  {
   "cell_type": "code",
   "execution_count": 9,
   "metadata": {},
   "outputs": [
    {
     "data": {
      "text/plain": [
       "array([5, 7, 6])"
      ]
     },
     "execution_count": 9,
     "metadata": {},
     "output_type": "execute_result"
    }
   ],
   "source": [
    "# Проверка\n",
    "\n",
    "get_subsample(10)"
   ]
  },
  {
   "cell_type": "markdown",
   "metadata": {},
   "source": [
    "**Классы из предыдущего урока с изменениями**"
   ]
  },
  {
   "cell_type": "code",
   "execution_count": 10,
   "metadata": {},
   "outputs": [],
   "source": [
    "# Реализация класса Node\n",
    "\n",
    "class Node:\n",
    "    \n",
    "    def __init__(self, index, t, true_branch, false_branch):\n",
    "        \n",
    "        # Индекс признака, по которому ведется сравнение с порогом в этом узле\n",
    "        self.index = index\n",
    "        \n",
    "        # Значение порога\n",
    "        self.t = t\n",
    "        \n",
    "        # Поддерево, удовлетворяющее условию в узле\n",
    "        self.true_branch = true_branch  \n",
    "        \n",
    "        # Поддерево, не удовлетворяющее условию в узле\n",
    "        self.false_branch = false_branch"
   ]
  },
  {
   "cell_type": "code",
   "execution_count": 11,
   "metadata": {},
   "outputs": [],
   "source": [
    "# Реализация класса Leaf\n",
    "\n",
    "class Leaf:\n",
    "    \n",
    "    def __init__(self, data, labels):\n",
    "        self.data = data\n",
    "        self.labels = labels\n",
    "        self.prediction = self.predict()\n",
    "        \n",
    "    def predict(self):\n",
    "        \n",
    "        # Подсчет количества объектов разных классов\n",
    "        # Сформируем словарь \"класс: количество объектов\"\n",
    "        \n",
    "        classes = {}\n",
    "        \n",
    "        for label in self.labels:\n",
    "            \n",
    "            if label not in classes:\n",
    "                \n",
    "                classes[label] = 0\n",
    "                \n",
    "            classes[label] += 1\n",
    "            \n",
    "        # Найдем класс, количество объектов которого будет максимальным в этом листе и вернем его\n",
    "        \n",
    "        prediction = max(classes, key=classes.get)\n",
    "        \n",
    "        return prediction"
   ]
  },
  {
   "cell_type": "markdown",
   "metadata": {},
   "source": [
    "**Дальнейшие функции**"
   ]
  },
  {
   "cell_type": "code",
   "execution_count": 13,
   "metadata": {},
   "outputs": [],
   "source": [
    "# Джини\n",
    "\n",
    "def gini(labels):\n",
    "    #  подсчет количества объектов разных классов\n",
    "    classes = {}\n",
    "    for label in labels:\n",
    "        if label not in classes:\n",
    "            classes[label] = 0\n",
    "        classes[label] += 1\n",
    "    \n",
    "    #  расчет критерия\n",
    "    impurity = 1\n",
    "    for label in classes:\n",
    "        p = classes[label] / len(labels)\n",
    "        impurity -= p ** 2\n",
    "        \n",
    "    return impurity\n",
    "\n",
    "\n",
    "# Прирост\n",
    "\n",
    "def gain(left_labels, right_labels, root_gini):\n",
    "\n",
    "    # Доля выборки, ушедшая в левое поддерево\n",
    "    \n",
    "    p = float(left_labels.shape[0]) / (left_labels.shape[0] + right_labels.shape[0])\n",
    "    \n",
    "    return root_gini - p * gini(left_labels) - (1 - p) * gini(right_labels)\n",
    "\n",
    "\n",
    "# Разбиение датасета в узле\n",
    "\n",
    "def split(data, labels, column_index, t):\n",
    "    \n",
    "    left = np.where(data[:, column_index] <= t)\n",
    "    right = np.where(data[:, column_index] > t)\n",
    "        \n",
    "    true_data = data[left]\n",
    "    false_data = data[right]\n",
    "    \n",
    "    true_labels = labels[left]\n",
    "    false_labels = labels[right]\n",
    "        \n",
    "    return true_data, false_data, true_labels, false_labels\n",
    "\n",
    "\n",
    "# Поиск наилучшего разбиения\n",
    "\n",
    "def find_best_split(data, labels):\n",
    "    \n",
    "    #  Обозначим минимальное количество объектов в узле\n",
    "    \n",
    "    min_leaf_samples = 5\n",
    "\n",
    "    root_gini = gini(labels)\n",
    "\n",
    "    best_gain = 0\n",
    "    best_t = None\n",
    "    best_index = None\n",
    "    \n",
    "    n_features = data.shape[1]\n",
    "    \n",
    "    feature_subsample_indices = get_subsample(n_features) \n",
    "    \n",
    "    # Выбираем случайные признаки\n",
    "    \n",
    "    for index in feature_subsample_indices:\n",
    "        \n",
    "        # Будем проверять только уникальные значения признака, исключая повторения\n",
    "        \n",
    "        t_values = np.unique(data[:, index])\n",
    "        \n",
    "        for t in t_values:\n",
    "            \n",
    "            true_data, false_data, true_labels, false_labels = split(data, labels, index, t)\n",
    "            \n",
    "            current_gain = gain(true_labels, false_labels, root_gini)\n",
    "            \n",
    "            #  Выбираем порог, на котором получается максимальный прирост качества\n",
    "            \n",
    "            if current_gain > best_gain:\n",
    "                best_gain, best_t, best_index = current_gain, t, index\n",
    "\n",
    "    return best_gain, best_t, best_index\n",
    "\n",
    "\n",
    "# Построение с помощью рекурсивной функции\n",
    "\n",
    "def build_tree(data, labels):\n",
    "\n",
    "    gain, t, index = find_best_split(data, labels)\n",
    "\n",
    "    #  Базовый случай - прекращаем рекурсию, когда нет прироста в качества\n",
    "    \n",
    "    if gain == 0:\n",
    "        \n",
    "        return Leaf(data, labels)\n",
    "\n",
    "    true_data, false_data, true_labels, false_labels = split(data, labels, index, t)\n",
    "\n",
    "    # Рекурсивно строим два поддерева\n",
    "    \n",
    "    true_branch = build_tree(true_data, true_labels)\n",
    "    false_branch = build_tree(false_data, false_labels)\n",
    "\n",
    "    # Возвращаем класс узла со всеми поддеревьями, то есть целого дерева\n",
    "    \n",
    "    return Node(index, t, true_branch, false_branch)\n",
    "\n",
    "\n",
    "# Функция для random forest\n",
    "\n",
    "def random_forest(data, labels, n_trees):\n",
    "    \n",
    "    forest = []\n",
    "    bootstrap = get_bootstrap(data, labels, n_trees)\n",
    "    \n",
    "    for b_data, b_labels in bootstrap:\n",
    "        \n",
    "        forest.append(build_tree(b_data, b_labels))\n",
    "        \n",
    "    return forest\n",
    "\n",
    "# Функция для классификации отдельного объекта\n",
    "\n",
    "def classify_object(obj, node):\n",
    "\n",
    "    #  Останавливаем рекурсию, если достигли листа\n",
    "    \n",
    "    if isinstance(node, Leaf):\n",
    "        \n",
    "        answer = node.prediction\n",
    "        \n",
    "        return answer\n",
    "\n",
    "    if obj[node.index] <= node.t:\n",
    "        \n",
    "        return classify_object(obj, node.true_branch)\n",
    "    \n",
    "    else:\n",
    "        \n",
    "        return classify_object(obj, node.false_branch)\n",
    "    \n",
    "# Predict \n",
    "\n",
    "def predict(data, tree):\n",
    "    \n",
    "    classes = []\n",
    "    \n",
    "    for obj in data:\n",
    "        \n",
    "        prediction = classify_object(obj, tree)\n",
    "        classes.append(prediction)\n",
    "        \n",
    "    return classes\n",
    "\n",
    "# Предсказание голосованием деревьев\n",
    "\n",
    "def tree_vote(forest, data):\n",
    "\n",
    "    # Добавим предсказания всех деревьев в список\n",
    "    \n",
    "    predictions = []\n",
    "    \n",
    "    for tree in forest:\n",
    "        \n",
    "        predictions.append(predict(data, tree))\n",
    "\n",
    "    # Сформируем список с предсказаниями для каждого объекта\n",
    "    \n",
    "    predictions_per_object = list(zip(*predictions))\n",
    "\n",
    "    # Выберем в качестве итогового предсказания для каждого объекта то, за которое проголосовало большинство деревьев\n",
    "    \n",
    "    voted_predictions = []\n",
    "    \n",
    "    for obj in predictions_per_object:\n",
    "        \n",
    "        voted_predictions.append(max(set(obj), key=obj.count))\n",
    "        \n",
    "    return voted_predictions"
   ]
  },
  {
   "cell_type": "code",
   "execution_count": 15,
   "metadata": {},
   "outputs": [],
   "source": [
    "# Train test split\n",
    "\n",
    "train_data, test_data, train_labels, test_labels = train_test_split(classification_data, classification_labels, test_size = 0.3, random_state = 1)"
   ]
  },
  {
   "cell_type": "code",
   "execution_count": 16,
   "metadata": {},
   "outputs": [],
   "source": [
    "# Accuracy\n",
    "\n",
    "def accuracy_metric(actual, predicted):\n",
    "    \n",
    "    correct = 0\n",
    "    \n",
    "    for i in range(len(actual)):\n",
    "        \n",
    "        if actual[i] == predicted[i]:\n",
    "            \n",
    "            correct += 1\n",
    "            \n",
    "    return correct / float(len(actual)) * 100.0"
   ]
  },
  {
   "cell_type": "markdown",
   "metadata": {},
   "source": [
    "**Построение лесов с разным количеством деревьев**"
   ]
  },
  {
   "cell_type": "code",
   "execution_count": 18,
   "metadata": {},
   "outputs": [
    {
     "name": "stdout",
     "output_type": "stream",
     "text": [
      "Точность случайного леса из 1 деревьев на обучающей выборке: 97.143\n",
      "Точность случайного леса из 1 деревьев на тестовой выборке: 86.667\n"
     ]
    }
   ],
   "source": [
    "# Построение леса - 1 дерево\n",
    "\n",
    "n = 1\n",
    "\n",
    "forest_1 = random_forest(train_data, train_labels, n)\n",
    "\n",
    "# Голосование для обучающей и тестовой выборки\n",
    "\n",
    "train_answers = tree_vote(forest_1, train_data)\n",
    "test_answers = tree_vote(forest_1, test_data)\n",
    "\n",
    "# Точность на обучении и тесте\n",
    "\n",
    "train_accuracy = accuracy_metric(train_labels, train_answers)\n",
    "print(f'Точность случайного леса из {n} деревьев на обучающей выборке: {train_accuracy:.3f}')\n",
    "\n",
    "test_accuracy = accuracy_metric(test_labels, test_answers)\n",
    "print(f'Точность случайного леса из {n} деревьев на тестовой выборке: {test_accuracy:.3f}')"
   ]
  },
  {
   "cell_type": "code",
   "execution_count": 19,
   "metadata": {},
   "outputs": [
    {
     "name": "stdout",
     "output_type": "stream",
     "text": [
      "Точность случайного леса из 3 деревьев на обучающей выборке: 95.714\n",
      "Точность случайного леса из 3 деревьев на тестовой выборке: 83.333\n"
     ]
    }
   ],
   "source": [
    "# Построение леса - 3 дерева\n",
    "\n",
    "n = 3\n",
    "\n",
    "forest_3 = random_forest(train_data, train_labels, n)\n",
    "\n",
    "# Голосование для обучающей и тестовой выборки\n",
    "\n",
    "train_answers = tree_vote(forest_3, train_data)\n",
    "test_answers = tree_vote(forest_3, test_data)\n",
    "\n",
    "# Точность на обучении и тесте\n",
    "\n",
    "train_accuracy = accuracy_metric(train_labels, train_answers)\n",
    "print(f'Точность случайного леса из {n} деревьев на обучающей выборке: {train_accuracy:.3f}')\n",
    "\n",
    "test_accuracy = accuracy_metric(test_labels, test_answers)\n",
    "print(f'Точность случайного леса из {n} деревьев на тестовой выборке: {test_accuracy:.3f}')"
   ]
  },
  {
   "cell_type": "code",
   "execution_count": 20,
   "metadata": {},
   "outputs": [
    {
     "name": "stdout",
     "output_type": "stream",
     "text": [
      "Точность случайного леса из 10 деревьев на обучающей выборке: 98.571\n",
      "Точность случайного леса из 10 деревьев на тестовой выборке: 90.000\n"
     ]
    }
   ],
   "source": [
    "# Построение леса - 10 деревьев\n",
    "\n",
    "n = 10\n",
    "\n",
    "forest_10 = random_forest(train_data, train_labels, n)\n",
    "\n",
    "# Голосование для обучающей и тестовой выборки\n",
    "\n",
    "train_answers = tree_vote(forest_10, train_data)\n",
    "test_answers = tree_vote(forest_10, test_data)\n",
    "\n",
    "# Точность на обучении и тесте\n",
    "\n",
    "train_accuracy = accuracy_metric(train_labels, train_answers)\n",
    "print(f'Точность случайного леса из {n} деревьев на обучающей выборке: {train_accuracy:.3f}')\n",
    "\n",
    "test_accuracy = accuracy_metric(test_labels, test_answers)\n",
    "print(f'Точность случайного леса из {n} деревьев на тестовой выборке: {test_accuracy:.3f}')"
   ]
  },
  {
   "cell_type": "code",
   "execution_count": 21,
   "metadata": {},
   "outputs": [
    {
     "name": "stdout",
     "output_type": "stream",
     "text": [
      "Точность случайного леса из 50 деревьев на обучающей выборке: 100.000\n",
      "Точность случайного леса из 50 деревьев на тестовой выборке: 83.333\n"
     ]
    }
   ],
   "source": [
    "# Построение леса - 50 деревьев\n",
    "\n",
    "n = 50\n",
    "\n",
    "forest_50 = random_forest(train_data, train_labels, n)\n",
    "\n",
    "# Голосование для обучающей и тестовой выборки\n",
    "\n",
    "train_answers = tree_vote(forest_50, train_data)\n",
    "test_answers = tree_vote(forest_50, test_data)\n",
    "\n",
    "# Точность на обучении и тесте\n",
    "\n",
    "train_accuracy = accuracy_metric(train_labels, train_answers)\n",
    "print(f'Точность случайного леса из {n} деревьев на обучающей выборке: {train_accuracy:.3f}')\n",
    "\n",
    "test_accuracy = accuracy_metric(test_labels, test_answers)\n",
    "print(f'Точность случайного леса из {n} деревьев на тестовой выборке: {test_accuracy:.3f}')"
   ]
  },
  {
   "cell_type": "code",
   "execution_count": 22,
   "metadata": {},
   "outputs": [],
   "source": [
    "# Функции для визуализации результата\n",
    "\n",
    "def get_meshgrid(data, step = .05, border = 1.2):\n",
    "    \n",
    "    x_min, x_max = data[:, 0].min() - border, data[:, 0].max() + border\n",
    "    y_min, y_max = data[:, 1].min() - border, data[:, 1].max() + border\n",
    "    \n",
    "    return np.meshgrid(np.arange(x_min, x_max, step), np.arange(y_min, y_max, step))\n",
    "\n",
    "\n",
    "def visualize(forest, train_data, test_data):\n",
    "    \n",
    "    plt.figure(figsize = (16, 7))\n",
    "\n",
    "    # Обучение\n",
    "    \n",
    "    plt.subplot(1,2,1)\n",
    "    xx, yy = get_meshgrid(train_data)\n",
    "    ggg = np.c_[xx.ravel(), yy.ravel()]\n",
    "    mesh_predictions = np.array(tree_vote(forest, ggg)).reshape(xx.shape)\n",
    "    plt.pcolormesh(xx, yy, mesh_predictions, cmap = light_colors)\n",
    "    plt.scatter(train_data[:, 0], train_data[:, 1], c = train_labels, cmap = colors)\n",
    "    plt.title(f'Train accuracy={train_accuracy:.2f}')\n",
    "\n",
    "    # Тест\n",
    "    \n",
    "    plt.subplot(1,2,2)\n",
    "    plt.pcolormesh(xx, yy, mesh_predictions, cmap = light_colors)\n",
    "    plt.scatter(test_data[:, 0], test_data[:, 1], c = test_labels, cmap = colors)\n",
    "    plt.title(f'Test accuracy={test_accuracy:.2f}')"
   ]
  },
  {
   "cell_type": "code",
   "execution_count": 23,
   "metadata": {},
   "outputs": [
    {
     "name": "stderr",
     "output_type": "stream",
     "text": [
      "<ipython-input-22-671d0fe75735>:21: MatplotlibDeprecationWarning: shading='flat' when X and Y have the same dimensions as C is deprecated since 3.3.  Either specify the corners of the quadrilaterals with X and Y, or pass shading='auto', 'nearest' or 'gouraud', or set rcParams['pcolor.shading'].  This will become an error two minor releases later.\n",
      "  plt.pcolormesh(xx, yy, mesh_predictions, cmap = light_colors)\n",
      "<ipython-input-22-671d0fe75735>:28: MatplotlibDeprecationWarning: shading='flat' when X and Y have the same dimensions as C is deprecated since 3.3.  Either specify the corners of the quadrilaterals with X and Y, or pass shading='auto', 'nearest' or 'gouraud', or set rcParams['pcolor.shading'].  This will become an error two minor releases later.\n",
      "  plt.pcolormesh(xx, yy, mesh_predictions, cmap = light_colors)\n"
     ]
    },
    {
     "data": {
      "image/png": "[encoded data removed]",
      "text/plain": [
       "<Figure size 1152x504 with 2 Axes>"
      ]
     },
     "metadata": {
      "needs_background": "light"
     },
     "output_type": "display_data"
    }
   ],
   "source": [
    "# Проверка для 1\n",
    "\n",
    "visualize(forest_1, train_data, test_data)"
   ]
  },
  {
   "cell_type": "code",
   "execution_count": 24,
   "metadata": {},
   "outputs": [
    {
     "name": "stderr",
     "output_type": "stream",
     "text": [
      "<ipython-input-22-671d0fe75735>:21: MatplotlibDeprecationWarning: shading='flat' when X and Y have the same dimensions as C is deprecated since 3.3.  Either specify the corners of the quadrilaterals with X and Y, or pass shading='auto', 'nearest' or 'gouraud', or set rcParams['pcolor.shading'].  This will become an error two minor releases later.\n",
      "  plt.pcolormesh(xx, yy, mesh_predictions, cmap = light_colors)\n",
      "<ipython-input-22-671d0fe75735>:28: MatplotlibDeprecationWarning: shading='flat' when X and Y have the same dimensions as C is deprecated since 3.3.  Either specify the corners of the quadrilaterals with X and Y, or pass shading='auto', 'nearest' or 'gouraud', or set rcParams['pcolor.shading'].  This will become an error two minor releases later.\n",
      "  plt.pcolormesh(xx, yy, mesh_predictions, cmap = light_colors)\n"
     ]
    },
    {
     "data": {
      "image/png": "[encoded data removed]",
      "text/plain": [
       "<Figure size 1152x504 with 2 Axes>"
      ]
     },
     "metadata": {
      "needs_background": "light"
     },
     "output_type": "display_data"
    }
   ],
   "source": [
    "# Проверка для 3\n",
    "\n",
    "visualize(forest_3, train_data, test_data)"
   ]
  },
  {
   "cell_type": "code",
   "execution_count": 25,
   "metadata": {},
   "outputs": [
    {
     "name": "stderr",
     "output_type": "stream",
     "text": [
      "<ipython-input-22-671d0fe75735>:21: MatplotlibDeprecationWarning: shading='flat' when X and Y have the same dimensions as C is deprecated since 3.3.  Either specify the corners of the quadrilaterals with X and Y, or pass shading='auto', 'nearest' or 'gouraud', or set rcParams['pcolor.shading'].  This will become an error two minor releases later.\n",
      "  plt.pcolormesh(xx, yy, mesh_predictions, cmap = light_colors)\n",
      "<ipython-input-22-671d0fe75735>:28: MatplotlibDeprecationWarning: shading='flat' when X and Y have the same dimensions as C is deprecated since 3.3.  Either specify the corners of the quadrilaterals with X and Y, or pass shading='auto', 'nearest' or 'gouraud', or set rcParams['pcolor.shading'].  This will become an error two minor releases later.\n",
      "  plt.pcolormesh(xx, yy, mesh_predictions, cmap = light_colors)\n"
     ]
    },
    {
     "data": {
      "image/png": "[encoded data removed]",
      "text/plain": [
       "<Figure size 1152x504 with 2 Axes>"
      ]
     },
     "metadata": {
      "needs_background": "light"
     },
     "output_type": "display_data"
    }
   ],
   "source": [
    "# Проверка для 10\n",
    "\n",
    "visualize(forest_10, train_data, test_data)"
   ]
  },
  {
   "cell_type": "code",
   "execution_count": 26,
   "metadata": {},
   "outputs": [
    {
     "name": "stderr",
     "output_type": "stream",
     "text": [
      "<ipython-input-22-671d0fe75735>:21: MatplotlibDeprecationWarning: shading='flat' when X and Y have the same dimensions as C is deprecated since 3.3.  Either specify the corners of the quadrilaterals with X and Y, or pass shading='auto', 'nearest' or 'gouraud', or set rcParams['pcolor.shading'].  This will become an error two minor releases later.\n",
      "  plt.pcolormesh(xx, yy, mesh_predictions, cmap = light_colors)\n",
      "<ipython-input-22-671d0fe75735>:28: MatplotlibDeprecationWarning: shading='flat' when X and Y have the same dimensions as C is deprecated since 3.3.  Either specify the corners of the quadrilaterals with X and Y, or pass shading='auto', 'nearest' or 'gouraud', or set rcParams['pcolor.shading'].  This will become an error two minor releases later.\n",
      "  plt.pcolormesh(xx, yy, mesh_predictions, cmap = light_colors)\n"
     ]
    },
    {
     "data": {
      "image/png": "[encoded data removed]",
      "text/plain": [
       "<Figure size 1152x504 with 2 Axes>"
      ]
     },
     "metadata": {
      "needs_background": "light"
     },
     "output_type": "display_data"
    }
   ],
   "source": [
    "# Проверка для 50\n",
    "\n",
    "visualize(forest_50, train_data, test_data)"
   ]
  },
  {
   "cell_type": "markdown",
   "metadata": {},
   "source": [
    "2. Сделать выводы о получаемой сложности гиперплоскости и недообучении или переобучении случайного леса в зависимости от количества деревьев в нем."
   ]
  },
  {
   "cell_type": "markdown",
   "metadata": {},
   "source": [
    "**Мы можем заметить, что модель с 50 деревьями явно переобучилась**"
   ]
  },
  {
   "cell_type": "markdown",
   "metadata": {},
   "source": [
    "---"
   ]
  },
  {
   "cell_type": "markdown",
   "metadata": {},
   "source": [
    "3. *Заменить в реализованном алгоритме проверку с помощью отложенной выборки на Out-of-Bag."
   ]
  },
  {
   "cell_type": "code",
   "execution_count": null,
   "metadata": {},
   "outputs": [],
   "source": []
  },
  {
   "cell_type": "markdown",
   "metadata": {},
   "source": [
    "4. *(На повторение) Переписать функцию gini из урока про решающие деревья так, чтобы в качестве критерия использовалась энтропия Шэннона. Переименовать функцию в entropy."
   ]
  },
  {
   "cell_type": "code",
   "execution_count": null,
   "metadata": {},
   "outputs": [],
   "source": []
  }
 ],
 "metadata": {
  "colab": {
   "collapsed_sections": [],
   "name": "Lesson_5.ipynb",
   "provenance": []
  },
  "kernelspec": {
   "display_name": "Python 3",
   "language": "python",
   "name": "python3"
  },
  "language_info": {
   "codemirror_mode": {
    "name": "ipython",
    "version": 3
   },
   "file_extension": ".py",
   "mimetype": "text/x-python",
   "name": "python",
   "nbconvert_exporter": "python",
   "pygments_lexer": "ipython3",
   "version": "3.8.5"
  }
 },
 "nbformat": 4,
 "nbformat_minor": 1
}
